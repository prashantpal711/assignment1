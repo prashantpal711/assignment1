{
  "nbformat": 4,
  "nbformat_minor": 0,
  "metadata": {
    "colab": {
      "provenance": [],
      "authorship_tag": "ABX9TyPFNa70S8U8K657bw0bDUv6",
      "include_colab_link": true
    },
    "kernelspec": {
      "name": "python3",
      "display_name": "Python 3"
    },
    "language_info": {
      "name": "python"
    }
  },
  "cells": [
    {
      "cell_type": "markdown",
      "metadata": {
        "id": "view-in-github",
        "colab_type": "text"
      },
      "source": [
        "<a href=\"https://colab.research.google.com/github/prashantpal711/assignment1/blob/main/assignment2.ipynb\" target=\"_parent\"><img src=\"https://colab.research.google.com/assets/colab-badge.svg\" alt=\"Open In Colab\"/></a>"
      ]
    },
    {
      "cell_type": "code",
      "source": [
        "import os\n",
        "directory = \"Assignment 2\" \n",
        "parent_dir = \"./sample_data/\"\n",
        "path = os.path.join(parent_dir, directory) \n",
        "try:\n",
        "    os.mkdir(path) \n",
        "    print(\"Directory '% s' created\" % directory) \n",
        "except OSError as error: \n",
        "    print(error) "
      ],
      "metadata": {
        "colab": {
          "base_uri": "https://localhost:8080/"
        },
        "id": "FwxPA0QEoxQx",
        "outputId": "1bc47f00-a7ef-4a23-cb2a-4707df10f1fb"
      },
      "execution_count": 1,
      "outputs": [
        {
          "output_type": "stream",
          "name": "stdout",
          "text": [
            "Directory 'Assignment 2' created\n"
          ]
        }
      ]
    },
    {
      "cell_type": "markdown",
      "source": [
        "Create a text file “intro.txt” in python and ask the user to write a single line of text by user input."
      ],
      "metadata": {
        "id": "p6T-krL-q8vg"
      }
    },
    {
      "cell_type": "code",
      "execution_count": 2,
      "metadata": {
        "id": "wX8ZvDFdBDBI",
        "colab": {
          "base_uri": "https://localhost:8080/"
        },
        "outputId": "12f05cc8-72a4-47d9-fb9f-d5ef814eda33"
      },
      "outputs": [
        {
          "name": "stdout",
          "output_type": "stream",
          "text": [
            "Write something in file.. : Hi, I am Prashant Pal\n"
          ]
        }
      ],
      "source": [
        "intro = path + \"/intro.txt\"\n",
        "f = open(intro, \"w\")\n",
        "f.write(input(\"Write something in file.. : \")+\"\\n\")\n",
        "f.close()"
      ]
    },
    {
      "cell_type": "code",
      "source": [
        "read = open(intro, \"r\")\n",
        "read.read()"
      ],
      "metadata": {
        "id": "TG_2D_9ECoRM",
        "colab": {
          "base_uri": "https://localhost:8080/",
          "height": 36
        },
        "outputId": "ba998685-34d0-4205-d18d-4b62cee9683d"
      },
      "execution_count": 3,
      "outputs": [
        {
          "output_type": "execute_result",
          "data": {
            "text/plain": [
              "'Hi, I am Prashant Pal\\n'"
            ],
            "application/vnd.google.colaboratory.intrinsic+json": {
              "type": "string"
            }
          },
          "metadata": {},
          "execution_count": 3
        }
      ]
    },
    {
      "cell_type": "markdown",
      "source": [
        "Create a text file “MyFile.txt” in python and ask the user to write separate 3 lines with three input statements from the user."
      ],
      "metadata": {
        "id": "JnOMWI6frDf4"
      }
    },
    {
      "cell_type": "code",
      "source": [
        "no_of_lines = 3\n",
        "MyFile = path + \"/MyFile.txt\"\n",
        "f = open(MyFile, \"w\")\n",
        "data = []\n",
        "for i in range(no_of_lines):\n",
        "  data.append(input(\"Statement for line \" + str(i+1) + \" : \") + \"\\n\")\n",
        "f.writelines(data)\n",
        "f.close()"
      ],
      "metadata": {
        "colab": {
          "base_uri": "https://localhost:8080/"
        },
        "id": "RfgWy39KqP1j",
        "outputId": "8bf55923-43d3-4395-8285-e9d17bc8d597"
      },
      "execution_count": 4,
      "outputs": [
        {
          "name": "stdout",
          "output_type": "stream",
          "text": [
            "Statement for line 1 : Line 1\n",
            "Statement for line 2 : Line 2\n",
            "Statement for line 3 : Line 3\n"
          ]
        }
      ]
    },
    {
      "cell_type": "code",
      "source": [
        "read = open(MyFile, \"r\")\n",
        "read.read()"
      ],
      "metadata": {
        "colab": {
          "base_uri": "https://localhost:8080/",
          "height": 36
        },
        "id": "RwB-vlwaswvN",
        "outputId": "417defdc-df24-48db-9c47-89711ae5da78"
      },
      "execution_count": 5,
      "outputs": [
        {
          "output_type": "execute_result",
          "data": {
            "text/plain": [
              "'Line 1\\nLine 2\\nLine 3\\n'"
            ],
            "application/vnd.google.colaboratory.intrinsic+json": {
              "type": "string"
            }
          },
          "metadata": {},
          "execution_count": 5
        }
      ]
    },
    {
      "cell_type": "markdown",
      "source": [
        "Write a program to read the contents of both the files created in the above programs and merge the contents into “merge.txt”. Avoid using the close() function to close the files."
      ],
      "metadata": {
        "id": "6EwM-c8-tyXv"
      }
    },
    {
      "cell_type": "code",
      "source": [
        "merge = path + \"/merge.txt\"\n",
        "with open(intro,\"r\") as file1:\n",
        "    intro_data = file1.read()\n",
        "with open(MyFile,\"r\") as file2:\n",
        "    MyFile_data = file2.read()\n",
        "with open(merge,\"w\") as file3:\n",
        "    file3.write(intro_data)\n",
        "    file3.write(MyFile_data)"
      ],
      "metadata": {
        "id": "w4D6xV6etBll"
      },
      "execution_count": 42,
      "outputs": []
    },
    {
      "cell_type": "markdown",
      "source": [
        "Count the total number of upper case, lower case, and digits used in the text file “merge.txt”."
      ],
      "metadata": {
        "id": "sy0m283V3JbY"
      }
    },
    {
      "cell_type": "code",
      "source": [
        "with open(merge,\"r\") as file:\n",
        "    file_data = file.read()\n",
        "lowr, uppr, digs = 0, 0, 0\n",
        "for character in file_data:\n",
        "    if character.islower():\n",
        "        lowr += 1\n",
        "    if character.isupper():\n",
        "        uppr += 1\n",
        "    if character.isdigit():\n",
        "        digs += 1\n",
        "print(\"Total Number of Lower Case letters: \", lowr)\n",
        "print(\"Total Number of Upper Case letters: \", uppr)\n",
        "print(\"Total Number of Digits: \", digs)"
      ],
      "metadata": {
        "colab": {
          "base_uri": "https://localhost:8080/"
        },
        "id": "lmP5QGh-2CKT",
        "outputId": "78ad5d45-1d8b-46cb-b617-a45f00284f8b"
      },
      "execution_count": 43,
      "outputs": [
        {
          "output_type": "stream",
          "name": "stdout",
          "text": [
            "Total Number of Lower Case letters:  21\n",
            "Total Number of Upper Case letters:  7\n",
            "Total Number of Digits:  3\n"
          ]
        }
      ]
    },
    {
      "cell_type": "markdown",
      "source": [
        "Write a program to count a total number of lines and count the total number of lines starting with ‘A’, ‘B’, and ‘C’. (Consider the merge.txt file)"
      ],
      "metadata": {
        "id": "8GpBXF2J7aIH"
      }
    },
    {
      "cell_type": "code",
      "source": [
        "with open(merge,\"r\") as file:\n",
        "       data = file.readlines()\n",
        "cnt_lines = len(data)\n",
        "cnt_A, cnt_B, cnt_C = 0, 0, 0\n",
        "for line in data:\n",
        "    if line[0] == 'A':\n",
        "        cnt_A += 1\n",
        "    if line[0] == 'B':\n",
        "        cnt_B += 1\n",
        "    if line[0] == 'C':\n",
        "        cnt_C += 1\n",
        "print(\"Total Number of lines are:\",cnt_lines)\n",
        "print(\"Total Number of lines strating with A: \",cnt_A)\n",
        "print(\"Total Number of lines strating with B: \",cnt_B)\n",
        "print(\"Total Number of lines strating with C: \",cnt_C)"
      ],
      "metadata": {
        "colab": {
          "base_uri": "https://localhost:8080/"
        },
        "id": "1JSWzkj67KOV",
        "outputId": "9d1f1c00-ac2b-40bc-fd6e-6b4a8872fb70"
      },
      "execution_count": 8,
      "outputs": [
        {
          "output_type": "stream",
          "name": "stdout",
          "text": [
            "Total Number of lines are: 4\n",
            "Total Number of lines strating with A:  0\n",
            "Total Number of lines strating with B:  0\n",
            "Total Number of lines strating with C:  0\n"
          ]
        }
      ]
    },
    {
      "cell_type": "markdown",
      "source": [
        "Find the total occurrences of a specific word from a text file:"
      ],
      "metadata": {
        "id": "U5xiNQq78y3a"
      }
    },
    {
      "cell_type": "code",
      "source": [
        "print(file_data.count(input(\"Enter a word to get it's occurrences from the file: \")))"
      ],
      "metadata": {
        "colab": {
          "base_uri": "https://localhost:8080/"
        },
        "id": "TN3HRiko8hv3",
        "outputId": "6a7f37c1-1aa3-4238-a8c5-f83219dcf427"
      },
      "execution_count": 9,
      "outputs": [
        {
          "output_type": "stream",
          "name": "stdout",
          "text": [
            "Enter a word to get it's occurrences from the file: Hello\n",
            "0\n"
          ]
        }
      ]
    },
    {
      "cell_type": "markdown",
      "source": [
        "Read first n no. letters from a text file, read the first line, read a specific line from a text file."
      ],
      "metadata": {
        "id": "i19fNFGI9uyo"
      }
    },
    {
      "cell_type": "code",
      "source": [
        "#Read first n number of letters from a text file.\n",
        "try:\n",
        "  print(open(merge,\"r\").read(int(input(\"Read first n number of letters from a text file.\\nEnter n = \"))))\n",
        "except Exception as e:\n",
        "  print(e)"
      ],
      "metadata": {
        "colab": {
          "base_uri": "https://localhost:8080/"
        },
        "id": "EnKNbOHU9H1R",
        "outputId": "a76a89ba-430d-464d-8198-22e75d36815a"
      },
      "execution_count": 10,
      "outputs": [
        {
          "output_type": "stream",
          "name": "stdout",
          "text": [
            "Read first n number of letters from a text file.\n",
            "Enter n = 53\n",
            "Hi, I am Prashant Pal\n",
            "Line 1\n",
            "Line 2\n",
            "Line 3\n",
            "\n"
          ]
        }
      ]
    },
    {
      "cell_type": "code",
      "source": [
        "#read the first line\n",
        "try:\n",
        "  print(open(merge,\"r\").readline())\n",
        "except Exception as e:\n",
        "  print(e)"
      ],
      "metadata": {
        "colab": {
          "base_uri": "https://localhost:8080/"
        },
        "id": "AdiHIJSFBzSE",
        "outputId": "6129faa7-f6ea-4437-f4db-f8be65a48497"
      },
      "execution_count": 11,
      "outputs": [
        {
          "output_type": "stream",
          "name": "stdout",
          "text": [
            "Hi, I am Prashant Pal\n",
            "\n"
          ]
        }
      ]
    },
    {
      "cell_type": "code",
      "source": [
        "#read a specific line from a text file.\n",
        "try:\n",
        "  print(open(merge,\"r\").readlines()[int(input())])\n",
        "except Exception as e:\n",
        "  print(e)"
      ],
      "metadata": {
        "colab": {
          "base_uri": "https://localhost:8080/"
        },
        "id": "6KP6T0krDS4M",
        "outputId": "0113d53d-cfbc-461c-88d4-920177d35ad1"
      },
      "execution_count": 12,
      "outputs": [
        {
          "output_type": "stream",
          "name": "stdout",
          "text": [
            "2\n",
            "Line 2\n",
            "\n"
          ]
        }
      ]
    },
    {
      "cell_type": "markdown",
      "source": [
        "Replace all spaces from text with – (dash)."
      ],
      "metadata": {
        "id": "l7Wt0ht-E7GD"
      }
    },
    {
      "cell_type": "code",
      "source": [
        "with open(merge,\"r\") as file:\n",
        "    data = file.read().replace(' ','-')\n",
        "with open(merge,\"w\") as file:\n",
        "    file.write(data)"
      ],
      "metadata": {
        "id": "aZD5OhjSDjzk"
      },
      "execution_count": 44,
      "outputs": []
    },
    {
      "cell_type": "code",
      "source": [
        "try:\n",
        "  print(open(merge,\"r\").read())\n",
        "except Exception as e:\n",
        "  print(e)"
      ],
      "metadata": {
        "colab": {
          "base_uri": "https://localhost:8080/"
        },
        "id": "ammxg2P-Fb21",
        "outputId": "b56b7a33-82aa-4ba6-a8b5-025590c10d85"
      },
      "execution_count": 35,
      "outputs": [
        {
          "output_type": "stream",
          "name": "stdout",
          "text": [
            "Hi,-I-am-Prashant-Pal\n",
            "Line-1\n",
            "Line-2\n",
            "Line-3\n",
            "\n"
          ]
        }
      ]
    },
    {
      "cell_type": "markdown",
      "source": [
        "Write a program to know the cursor position and print the text according to below-given specifications:\n",
        "1.   Print the initial position\n",
        "2.   Move the cursor to 4th position\n",
        "3.   Display next 5 characters"
      ],
      "metadata": {
        "id": "TqC29akN8zHV"
      }
    },
    {
      "cell_type": "code",
      "source": [
        "f = open(merge,\"r\")\n",
        "# Print the initial position\n",
        "print(\"Initial position: \", f.tell())\n",
        "# Move the cursor to 4th position\n",
        "print(\"Moving the cursor to 4th position\")\n",
        "f.seek(4,0)\n",
        "print(\"new position: \", f.tell())\n",
        "# Display next 5 characters\n",
        "print(\"Display next 5 characters: \", f.read(5))"
      ],
      "metadata": {
        "id": "BZY-85e8FpBi",
        "colab": {
          "base_uri": "https://localhost:8080/"
        },
        "outputId": "6d9512bf-8d6f-40cb-a49e-4361495e686c"
      },
      "execution_count": 15,
      "outputs": [
        {
          "output_type": "stream",
          "name": "stdout",
          "text": [
            "Initial position:  0\n",
            "Moving the cursor to 4th position\n",
            "new position:  4\n",
            "Display next 5 characters:  I-am-\n"
          ]
        }
      ]
    },
    {
      "cell_type": "markdown",
      "source": [
        "Append the contents in entered by the user in the text file:"
      ],
      "metadata": {
        "id": "T21m83zI-NMi"
      }
    },
    {
      "cell_type": "code",
      "source": [
        "with open(merge,\"a\") as f1:\n",
        "    f1.write(\"\\n\"+input(\"Enter text to append in the file: \"))"
      ],
      "metadata": {
        "colab": {
          "base_uri": "https://localhost:8080/"
        },
        "id": "W4WA4lZf8u3j",
        "outputId": "9122349f-ad43-46a9-8f5e-40edcb207578"
      },
      "execution_count": 45,
      "outputs": [
        {
          "name": "stdout",
          "output_type": "stream",
          "text": [
            "Enter text to append in the file: New     Line   3     .\n"
          ]
        }
      ]
    },
    {
      "cell_type": "markdown",
      "source": [
        "Read the contents of file in reverse order:"
      ],
      "metadata": {
        "id": "JP6JS1oNuNE5"
      }
    },
    {
      "cell_type": "code",
      "source": [
        "for i in reversed(list(open(merge,\"r\"))):\n",
        "    print(i.rstrip())"
      ],
      "metadata": {
        "colab": {
          "base_uri": "https://localhost:8080/"
        },
        "id": "AEmYP6BX-SK5",
        "outputId": "cd7bb42b-2ea6-4f46-888b-d0c07604004e"
      },
      "execution_count": 46,
      "outputs": [
        {
          "output_type": "stream",
          "name": "stdout",
          "text": [
            "New     Line   3     .\n",
            "\n",
            "Line-3\n",
            "Line-2\n",
            "Line-1\n",
            "Hi,-I-am-Prashant-Pal\n"
          ]
        }
      ]
    },
    {
      "cell_type": "markdown",
      "source": [
        "Replace multiple spaces with single space in a text file"
      ],
      "metadata": {
        "id": "nwyTXASfuR83"
      }
    },
    {
      "cell_type": "code",
      "source": [
        "file = open(path+\"/merge1.txt\", \"w\")\n",
        "for line in open(merge,\"r\"):\n",
        "    file.write(' '.join(line.split()))"
      ],
      "metadata": {
        "id": "VNc2POGstU-y"
      },
      "execution_count": 56,
      "outputs": []
    },
    {
      "cell_type": "code",
      "source": [],
      "metadata": {
        "id": "KgfjZ4Rduov1"
      },
      "execution_count": null,
      "outputs": []
    }
  ]
}