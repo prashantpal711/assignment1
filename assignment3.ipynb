{
  "nbformat": 4,
  "nbformat_minor": 0,
  "metadata": {
    "colab": {
      "provenance": [],
      "authorship_tag": "ABX9TyPSXtk/rjRuMxVUmRnkB55J",
      "include_colab_link": true
    },
    "kernelspec": {
      "name": "python3",
      "display_name": "Python 3"
    },
    "language_info": {
      "name": "python"
    }
  },
  "cells": [
    {
      "cell_type": "markdown",
      "metadata": {
        "id": "view-in-github",
        "colab_type": "text"
      },
      "source": [
        "<a href=\"https://colab.research.google.com/github/prashantpal711/assignment1/blob/main/assignment3.ipynb\" target=\"_parent\"><img src=\"https://colab.research.google.com/assets/colab-badge.svg\" alt=\"Open In Colab\"/></a>"
      ]
    },
    {
      "cell_type": "code",
      "execution_count": 19,
      "metadata": {
        "id": "OnLhaLT-_v6H"
      },
      "outputs": [],
      "source": [
        "from openpyxl import load_workbook as lwb\n",
        "mass = lwb(\"./sample_data/assignment 3/Mass.xlsx\", data_only=True) \n",
        "mass_sheet = mass[\"Sheet1\"]\n",
        "\n",
        "target = lwb(\"./sample_data/assignment 3/Target.xlsx\", data_only=True) \n",
        "target_sheet = target[\"Sheet1\"]"
      ]
    },
    {
      "cell_type": "code",
      "source": [
        "for col in mass_sheet['A']:\n",
        "   print(col.value)"
      ],
      "metadata": {
        "colab": {
          "base_uri": "https://localhost:8080/"
        },
        "id": "FysGoEzQDnvK",
        "outputId": "18e74d6c-91a4-4f48-c0d7-d8738ddf5a35"
      },
      "execution_count": 20,
      "outputs": [
        {
          "output_type": "stream",
          "name": "stdout",
          "text": [
            "TRANSACTIONTYPE(A)\n",
            "0\n",
            "1\n",
            "2\n",
            "3\n",
            "4\n",
            "5\n",
            "6\n",
            "7\n",
            "8\n",
            "9\n",
            "10\n",
            "11\n",
            "12\n",
            "13\n",
            "14\n",
            "15\n",
            "16\n",
            "17\n",
            "20\n"
          ]
        }
      ]
    },
    {
      "cell_type": "code",
      "source": [
        "for col in target_sheet['A']:\n",
        "   print(col.value)"
      ],
      "metadata": {
        "colab": {
          "base_uri": "https://localhost:8080/"
        },
        "id": "4GTqbQgbEKAg",
        "outputId": "e52eb985-2ade-4bd5-ac5c-1c6df9326078"
      },
      "execution_count": 21,
      "outputs": [
        {
          "output_type": "stream",
          "name": "stdout",
          "text": [
            "TRANSACTIONTYPE(A)\n",
            "0\n",
            "1\n",
            "2\n",
            "3\n",
            "4\n",
            "5\n",
            "6\n",
            "7\n",
            "8\n",
            "9\n",
            "10\n",
            "11\n",
            "12\n",
            "13\n",
            "14\n",
            "15\n",
            "16\n",
            "17\n",
            "20\n"
          ]
        }
      ]
    },
    {
      "cell_type": "code",
      "source": [
        "def mass_verification(column):\n",
        "    for col in range(1, len(column)):\n",
        "        if column[col].value is None or column[col].value < 0:\n",
        "            return \"Contains invalid value in column\"\n",
        "    return \"All values are valid\"\n",
        "mass_verification(mass_sheet['A'])"
      ],
      "metadata": {
        "colab": {
          "base_uri": "https://localhost:8080/",
          "height": 36
        },
        "id": "ZqQBCSGjEoHK",
        "outputId": "f3fc8af3-bc3b-416d-ed69-85366c66c128"
      },
      "execution_count": 22,
      "outputs": [
        {
          "output_type": "execute_result",
          "data": {
            "text/plain": [
              "'All values are valid'"
            ],
            "application/vnd.google.colaboratory.intrinsic+json": {
              "type": "string"
            }
          },
          "metadata": {},
          "execution_count": 22
        }
      ]
    },
    {
      "cell_type": "code",
      "source": [
        "def target_verification(column):\n",
        "    for col in range(1, len(column)):\n",
        "        if column[col].value is None or column[col].value < 0:\n",
        "            return \"Contains invalid value in column\"\n",
        "    return \"All values are valid\"\n",
        "target_verification(target_sheet['A'])"
      ],
      "metadata": {
        "colab": {
          "base_uri": "https://localhost:8080/",
          "height": 36
        },
        "id": "sAme0AxEGMm1",
        "outputId": "ef2cdbca-9e20-4ef6-c370-f0751a296da0"
      },
      "execution_count": 23,
      "outputs": [
        {
          "output_type": "execute_result",
          "data": {
            "text/plain": [
              "'All values are valid'"
            ],
            "application/vnd.google.colaboratory.intrinsic+json": {
              "type": "string"
            }
          },
          "metadata": {},
          "execution_count": 23
        }
      ]
    },
    {
      "cell_type": "code",
      "source": [
        "def mass_range_verification(column):\n",
        "    list = [int(x) for x in range(0,18)]+[20]\n",
        "    for col in range(1, len(column)):\n",
        "        if column[col].value not in list:\n",
        "            return column[col].value+\" is invalid value in column which is not 0-17 or 20\"\n",
        "    return \"All values are valid\"\n",
        "mass_range_verification(mass_sheet['A'])"
      ],
      "metadata": {
        "colab": {
          "base_uri": "https://localhost:8080/",
          "height": 36
        },
        "id": "jO2KjtD5G3Cc",
        "outputId": "412d0070-185b-4ad8-9120-6cbefc5fec40"
      },
      "execution_count": 24,
      "outputs": [
        {
          "output_type": "execute_result",
          "data": {
            "text/plain": [
              "'All values are valid'"
            ],
            "application/vnd.google.colaboratory.intrinsic+json": {
              "type": "string"
            }
          },
          "metadata": {},
          "execution_count": 24
        }
      ]
    },
    {
      "cell_type": "code",
      "source": [
        "def target_range_verification(column):\n",
        "    list = [int(x) for x in range(0,18)]+[20]\n",
        "    for col in range(1, len(column)):\n",
        "        if column[col].value not in list:\n",
        "            return column[col].value+\" is invalid value in column which is not 0-17 or 20\"\n",
        "    return \"All values are valid\"\n",
        "target_range_verification(target_sheet['A'])"
      ],
      "metadata": {
        "colab": {
          "base_uri": "https://localhost:8080/",
          "height": 36
        },
        "id": "HoeMh2-qI2pn",
        "outputId": "c11a1b93-2e12-4f27-e912-8013f7c10a64"
      },
      "execution_count": 25,
      "outputs": [
        {
          "output_type": "execute_result",
          "data": {
            "text/plain": [
              "'All values are valid'"
            ],
            "application/vnd.google.colaboratory.intrinsic+json": {
              "type": "string"
            }
          },
          "metadata": {},
          "execution_count": 25
        }
      ]
    },
    {
      "cell_type": "markdown",
      "source": [
        "-------------------------------------------------------------------------"
      ],
      "metadata": {
        "id": "gchqpIPbJjdf"
      }
    },
    {
      "cell_type": "code",
      "source": [
        "for col in mass_sheet['B']:\n",
        "   print(col.value)"
      ],
      "metadata": {
        "colab": {
          "base_uri": "https://localhost:8080/"
        },
        "id": "4aU68ExgJZ-y",
        "outputId": "66f1595d-4280-4830-8792-4457a5c8bbd1"
      },
      "execution_count": 26,
      "outputs": [
        {
          "output_type": "stream",
          "name": "stdout",
          "text": [
            "APPLICATION(H)\n",
            "None\n",
            "HA_DKKK\n",
            "QG_ZPDU\n",
            "XD_WEHV\n",
            "VX_IFSK\n",
            "VE_YVKH\n",
            "UK_WTSI\n",
            "HQ_VPXL\n",
            "KX_EIHL\n",
            "BW_TDBD\n",
            "FA_XKQL\n",
            "WE_AAUS\n",
            "VS_SDXM\n",
            "DE_YIJC\n",
            "ST_PMVK\n",
            "QR_LMDU\n",
            "YP_JRUI\n",
            "IR_XTSF\n",
            "OD_DYHW\n"
          ]
        }
      ]
    },
    {
      "cell_type": "code",
      "source": [
        "for col in target_sheet['B']:\n",
        "   print(col.value)"
      ],
      "metadata": {
        "colab": {
          "base_uri": "https://localhost:8080/"
        },
        "id": "cVvVZisBKAKw",
        "outputId": "56ac5ec6-d62f-4727-cf80-0d50a8cb0865"
      },
      "execution_count": 27,
      "outputs": [
        {
          "output_type": "stream",
          "name": "stdout",
          "text": [
            "APPLICATION(H)\n",
            "None\n",
            "XN_VIOM\n",
            "GQ_GZMA\n",
            "GI_FESM\n",
            "NS_WWZT\n",
            "ZE_NRRN\n",
            "PT_ZRAG\n",
            "TW_UVJK\n",
            "DO_MYXQ\n",
            "KJ_HUKQ\n",
            "UG_NTNR\n",
            "ZH_QTVJ\n",
            "TJ_KZUZ\n",
            "NT_UUSV\n",
            "HJ_HGHH\n",
            "RJ_NXVG\n",
            "NX_HXYT\n",
            "AJ_HXDV\n",
            "SS_FWCS\n"
          ]
        }
      ]
    },
    {
      "cell_type": "code",
      "source": [
        "def mass_verification(transaction, application):\n",
        "    for col in range(1, len(transaction)):\n",
        "        if int(transaction[col].value) == 0:\n",
        "            if application[col].value is None:\n",
        "                return \"Application value is blank\"\n",
        "            else:\n",
        "                return \"Application value is not blank\"\n",
        "    return \"No Transaction type 0 found\"\n",
        "mass_verification(mass_sheet['A'], mass_sheet['B'])"
      ],
      "metadata": {
        "colab": {
          "base_uri": "https://localhost:8080/",
          "height": 36
        },
        "id": "V-ruM-VrKe3C",
        "outputId": "03def9f1-a31e-45af-f061-df33b25e3278"
      },
      "execution_count": 28,
      "outputs": [
        {
          "output_type": "execute_result",
          "data": {
            "text/plain": [
              "'Application value is blank'"
            ],
            "application/vnd.google.colaboratory.intrinsic+json": {
              "type": "string"
            }
          },
          "metadata": {},
          "execution_count": 28
        }
      ]
    },
    {
      "cell_type": "code",
      "source": [
        "def target_verification(transaction, application):\n",
        "    for col in range(1, len(transaction)):\n",
        "        if int(transaction[col].value) == 0:\n",
        "            if application[col].value is None:\n",
        "                return \"Application value is blank\"\n",
        "            else:\n",
        "                return \"Application value is not blank\"\n",
        "    return \"No Transaction type 0 found\"\n",
        "target_verification(target_sheet['A'], target_sheet['B'])"
      ],
      "metadata": {
        "colab": {
          "base_uri": "https://localhost:8080/",
          "height": 36
        },
        "id": "T3rLSSOGMXaV",
        "outputId": "5274f507-6cf8-479a-8bb9-a287ada2c565"
      },
      "execution_count": 29,
      "outputs": [
        {
          "output_type": "execute_result",
          "data": {
            "text/plain": [
              "'Application value is blank'"
            ],
            "application/vnd.google.colaboratory.intrinsic+json": {
              "type": "string"
            }
          },
          "metadata": {},
          "execution_count": 29
        }
      ]
    },
    {
      "cell_type": "code",
      "source": [
        "def mass_alpha_verification(transaction, application):\n",
        "    for col in range(1, len(transaction)):\n",
        "        if int(transaction[col].value) == 0:\n",
        "            continue\n",
        "        else:\n",
        "            if (application[col].value).isalnum() == True and '_' in application[col].value :\n",
        "                return \"Application value is alphanumeric and satisfies the condition\"\n",
        "            else:\n",
        "                return \"Application value does not satisfies the condition\"\n",
        "mass_alpha_verification(mass_sheet['A'], mass_sheet['B'])"
      ],
      "metadata": {
        "colab": {
          "base_uri": "https://localhost:8080/",
          "height": 36
        },
        "id": "qI4i1c8FMg0e",
        "outputId": "bf2b99f6-e095-4ae7-a13d-388678330672"
      },
      "execution_count": 39,
      "outputs": [
        {
          "output_type": "execute_result",
          "data": {
            "text/plain": [
              "'Application value does not satisfies the condition'"
            ],
            "application/vnd.google.colaboratory.intrinsic+json": {
              "type": "string"
            }
          },
          "metadata": {},
          "execution_count": 39
        }
      ]
    },
    {
      "cell_type": "code",
      "source": [
        "def target_alpha_verification(transaction, application):\n",
        "    for col in range(1, len(transaction)):\n",
        "        if int(transaction[col].value) == 0:\n",
        "            continue\n",
        "        else:\n",
        "            if (application[col].value).isalnum() == True and '_' in application[col].value :\n",
        "                return \"Application value is alphanumeric and satisfies the condition\"\n",
        "            else:\n",
        "                return \"Application value does not satisfies the condition\"\n",
        "target_alpha_verification(target_sheet['A'], target_sheet['B'])"
      ],
      "metadata": {
        "colab": {
          "base_uri": "https://localhost:8080/",
          "height": 36
        },
        "id": "QjlMUIHXPGj0",
        "outputId": "4f6c1449-c6d1-4df8-9537-9da16adb0dd9"
      },
      "execution_count": 40,
      "outputs": [
        {
          "output_type": "execute_result",
          "data": {
            "text/plain": [
              "'Application value does not satisfies the condition'"
            ],
            "application/vnd.google.colaboratory.intrinsic+json": {
              "type": "string"
            }
          },
          "metadata": {},
          "execution_count": 40
        }
      ]
    },
    {
      "cell_type": "code",
      "source": [],
      "metadata": {
        "id": "_ARiFHfNQkDZ"
      },
      "execution_count": null,
      "outputs": []
    }
  ]
}